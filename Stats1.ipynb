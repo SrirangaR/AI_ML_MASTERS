{
 "cells": [
  {
   "cell_type": "markdown",
   "metadata": {},
   "source": [
    "Problem 1) You survey households in your area to find the average rent they are paying. Find the\n",
    "standard deviation from the following data:\n",
    "$1550, $1700, $900, $850, $1000, $950.\n",
    "\n",
    "i) Calculate Mean<br>\n",
    "        $\\mu$ = $\\sum$(x)/N<br>\n",
    "              = (1550+1700+900+850+1000+950)/6<br>\n",
    "                   = 6950/6<br>\n",
    "         $\\mu$ = 1158.3 <br>\n",
    "         \n",
    "ii) Calculate \n",
    "        $\\sum$$(x_i-\\mu)^{2}$ <br>\n",
    "       =  $(1550-1158.33)^{2}$+ $(1700-1158.33)^{2}$ + $(900-1158.33)^{2}$ + $(850-1158.33)^{2}$ + $(1000-1158.33)^{2}$ + $(950-1158.33)^{2}$ <br>\n",
    "       = 153405.3889 + 293406.3889+ 66734.3889+95067.3889+25068.3889+43401.3889<br>\n",
    "       = 677083.3334\n",
    "       \n",
    "iii) Calculate Variance <br>\n",
    "        $\\sigma^{2}$ = $\\frac{1}{n-1}$($\\sum$$(x_i-\\mu)^{2}$)<br>\n",
    "                     = 677083.3334/5<br>\n",
    "        $\\sigma^{2}$= 135416.6667<br>\n",
    "        \n",
    " iv) Calculate Standard Deviation<br>\n",
    "     $\\sigma$ = $\\sqrt{variance}$ <br>\n",
    "               = $\\sqrt{135416.6667}$<br>\n",
    "      $\\sigma$ = 367.990\n",
    "             \n",
    "        \n",
    "    "
   ]
  },
  {
   "cell_type": "markdown",
   "metadata": {},
   "source": [
    "Problem 2) Find the variance for the following set of data representing trees in California (heights in\n",
    "feet):\n",
    "3, 21, 98, 203, 17, 9\n",
    "i) Calculate Mean<br>\n",
    "        $\\mu$ = $\\sum$(x)/N<br>\n",
    "               = (3+21+98+203+17+9) / 6 <br>\n",
    "               = 351/6 <br>\n",
    "        $\\mu$  = 58.5 <br>\n",
    "        \n",
    "ii) Calculate \n",
    "        $\\sum$$(x_i-\\mu)^{2}$ <br>\n",
    "        =  $(3-58.5)^{2}$+ $(21-58.5)^{2}$ + $(98-58.5)^{2}$ + $(203-58.5)^{2}$ + $(17-58.5)^{2}$ + $(9-58.5)^{2}$ <br>\n",
    "        = 3080.25+1406.25+1560.25+20880.25+1722.25+2450.25 <br>\n",
    "        = 31099.5\n",
    "       \n",
    "iii) Calculate Variance <br>\n",
    "        $\\sigma^{2}$ = $\\frac{1}{n-1}$($\\sum$$(x_i-\\mu)^{2}$)<br>\n",
    "                     = 31099.5/5<br>\n",
    "       $\\sigma^{2}$    = 6219.9\n",
    " \n"
   ]
  },
  {
   "cell_type": "markdown",
   "metadata": {},
   "source": [
    "Problem 3) In a class on 100 students, 80 students passed in all subjects, 10 failed in one subject, 7\n",
    "failed in two subjects and 3 failed in three subjects. Find the probability distribution of\n",
    "the variable for number of subjects a student from the given class has failed in.\n",
    "\n",
    "Let X = number of subjects failed in<br> \n",
    "    X = {0,1,2,3}\n",
    "   \n",
    "Therefore,<br>\n",
    "    probability failed in no subject <br> P(x=0) = $\\frac{80}{100}$ = 0.8<br>\n",
    "    probability failed in one subject <br> P(x=1)= $\\frac{10}{100}$ = 0.1<br>\n",
    "    probability failed in two subject <br> P(x=2)= $\\frac{7}{100}$ = 0.07<br>\n",
    "    probability failed in three subject<br> P(x=3)=$\\frac{3}{100}$ = 0.03<br>"
   ]
  },
  {
   "cell_type": "markdown",
   "metadata": {},
   "source": []
  }
 ],
 "metadata": {
  "kernelspec": {
   "display_name": "Python 3",
   "language": "python",
   "name": "python3"
  },
  "language_info": {
   "codemirror_mode": {
    "name": "ipython",
    "version": 3
   },
   "file_extension": ".py",
   "mimetype": "text/x-python",
   "name": "python",
   "nbconvert_exporter": "python",
   "pygments_lexer": "ipython3",
   "version": "3.6.3"
  }
 },
 "nbformat": 4,
 "nbformat_minor": 2
}
